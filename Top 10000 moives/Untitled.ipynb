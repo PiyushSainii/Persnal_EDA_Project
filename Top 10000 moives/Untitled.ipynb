{
 "cells": [
  {
   "cell_type": "markdown",
   "id": "bc9b37ce",
   "metadata": {},
   "source": [
    "# Exploratory Data Analysis - Top 10.000 Movies                                       Dataset 🎬"
   ]
  },
  {
   "cell_type": "markdown",
   "id": "35c5923e",
   "metadata": {},
   "source": [
    "\n",
    "About the Dataset\n",
    "\n",
    "1.id - Every movie has its unique ID.\n",
    "2.original_language - There are total 44 languages present in this      column. Total 7771 movies with 'English' as original language. Values in this column are ISO 639-1 codes of languages. I.e 'en' for 'English' , 'hi' for 'Hindi' etc.\n",
    "3.original_title - Title of the movie.\n",
    "4.popularity - Popularity of movie. Bigger the number , higher the popularity.\n",
    "5.release_date - Release date of the movie. If release date is not present for any movie , then that movie is not released yet.\n",
    "6.vote_average - Average of rating/vote for the movie.\n",
    "7.vote_count - Number of ratings/vote recorded for the movie.\n",
    "8.genre - Genre of the movie.\n",
    "9.overview - Brief description of movie in string format.\n",
    "10.revenue - Revenue of Movie\n",
    "11.runtime - Runtime of movie in minutes.\n",
    "12.tagline - Tagline of the movie\n",
    "\n"
   ]
  },
  {
   "cell_type": "code",
   "execution_count": 1,
   "id": "59255e16",
   "metadata": {},
   "outputs": [],
   "source": [
    "import pandas as pd\n",
    "import numpy as np\n",
    "import matplotlib.pyplot as plt\n",
    "import seaborn as sns"
   ]
  },
  {
   "cell_type": "code",
   "execution_count": 2,
   "id": "c917c100",
   "metadata": {},
   "outputs": [],
   "source": [
    "df = pd.read_csv(\"C:\\\\Users\\\\user\\\\Desktop\\\\New folder\\\\Top 10000 moives\\\\Top_10000_Movies.csv\")"
   ]
  },
  {
   "cell_type": "code",
   "execution_count": 3,
   "id": "f9ef11da",
   "metadata": {
    "scrolled": false
   },
   "outputs": [
    {
     "data": {
      "text/html": [
       "<div>\n",
       "<style scoped>\n",
       "    .dataframe tbody tr th:only-of-type {\n",
       "        vertical-align: middle;\n",
       "    }\n",
       "\n",
       "    .dataframe tbody tr th {\n",
       "        vertical-align: top;\n",
       "    }\n",
       "\n",
       "    .dataframe thead th {\n",
       "        text-align: right;\n",
       "    }\n",
       "</style>\n",
       "<table border=\"1\" class=\"dataframe\">\n",
       "  <thead>\n",
       "    <tr style=\"text-align: right;\">\n",
       "      <th></th>\n",
       "      <th>Unnamed: 0</th>\n",
       "      <th>id</th>\n",
       "      <th>original_language</th>\n",
       "      <th>original_title</th>\n",
       "      <th>popularity</th>\n",
       "      <th>release_date</th>\n",
       "      <th>vote_average</th>\n",
       "      <th>vote_count</th>\n",
       "      <th>genre</th>\n",
       "      <th>overview</th>\n",
       "      <th>revenue</th>\n",
       "      <th>runtime</th>\n",
       "      <th>tagline</th>\n",
       "    </tr>\n",
       "  </thead>\n",
       "  <tbody>\n",
       "    <tr>\n",
       "      <th>0</th>\n",
       "      <td>0</td>\n",
       "      <td>580489.0</td>\n",
       "      <td>en</td>\n",
       "      <td>Venom: Let There Be Carnage</td>\n",
       "      <td>5401.308</td>\n",
       "      <td>9/30/2021</td>\n",
       "      <td>6.8</td>\n",
       "      <td>1736.0</td>\n",
       "      <td>['Science Fiction', 'Action', 'Adventure']</td>\n",
       "      <td>After finding a host body in investigative rep...</td>\n",
       "      <td>424000000.0</td>\n",
       "      <td>97.0</td>\n",
       "      <td>NaN</td>\n",
       "    </tr>\n",
       "    <tr>\n",
       "      <th>1</th>\n",
       "      <td>1</td>\n",
       "      <td>524434.0</td>\n",
       "      <td>en</td>\n",
       "      <td>Eternals</td>\n",
       "      <td>3365.535</td>\n",
       "      <td>11/3/2021</td>\n",
       "      <td>7.1</td>\n",
       "      <td>622.0</td>\n",
       "      <td>['Action', 'Adventure', 'Science Fiction', 'Fa...</td>\n",
       "      <td>The Eternals are a team of ancient aliens who ...</td>\n",
       "      <td>165000000.0</td>\n",
       "      <td>157.0</td>\n",
       "      <td>In the beginning...</td>\n",
       "    </tr>\n",
       "    <tr>\n",
       "      <th>2</th>\n",
       "      <td>2</td>\n",
       "      <td>438631.0</td>\n",
       "      <td>en</td>\n",
       "      <td>Dune</td>\n",
       "      <td>2911.423</td>\n",
       "      <td>9/15/2021</td>\n",
       "      <td>8.0</td>\n",
       "      <td>3632.0</td>\n",
       "      <td>['Action', 'Adventure', 'Science Fiction']</td>\n",
       "      <td>Paul Atreides, a brilliant and gifted young ma...</td>\n",
       "      <td>331116356.0</td>\n",
       "      <td>155.0</td>\n",
       "      <td>Beyond fear, destiny awaits.</td>\n",
       "    </tr>\n",
       "    <tr>\n",
       "      <th>3</th>\n",
       "      <td>3</td>\n",
       "      <td>796499.0</td>\n",
       "      <td>en</td>\n",
       "      <td>Army of Thieves</td>\n",
       "      <td>2552.437</td>\n",
       "      <td>10/27/2021</td>\n",
       "      <td>6.9</td>\n",
       "      <td>555.0</td>\n",
       "      <td>['Action', 'Crime', 'Thriller']</td>\n",
       "      <td>A mysterious woman recruits bank teller Ludwig...</td>\n",
       "      <td>0.0</td>\n",
       "      <td>127.0</td>\n",
       "      <td>Before Vegas, one locksmith became a legend.</td>\n",
       "    </tr>\n",
       "    <tr>\n",
       "      <th>4</th>\n",
       "      <td>4</td>\n",
       "      <td>550988.0</td>\n",
       "      <td>en</td>\n",
       "      <td>Free Guy</td>\n",
       "      <td>1850.470</td>\n",
       "      <td>8/11/2021</td>\n",
       "      <td>7.8</td>\n",
       "      <td>3493.0</td>\n",
       "      <td>['Comedy', 'Action', 'Adventure', 'Science Fic...</td>\n",
       "      <td>A bank teller called Guy realizes he is a back...</td>\n",
       "      <td>331096766.0</td>\n",
       "      <td>115.0</td>\n",
       "      <td>Life's too short to be a background character.</td>\n",
       "    </tr>\n",
       "  </tbody>\n",
       "</table>\n",
       "</div>"
      ],
      "text/plain": [
       "  Unnamed: 0        id original_language               original_title  \\\n",
       "0          0  580489.0                en  Venom: Let There Be Carnage   \n",
       "1          1  524434.0                en                     Eternals   \n",
       "2          2  438631.0                en                         Dune   \n",
       "3          3  796499.0                en              Army of Thieves   \n",
       "4          4  550988.0                en                     Free Guy   \n",
       "\n",
       "   popularity release_date  vote_average  vote_count  \\\n",
       "0    5401.308    9/30/2021           6.8      1736.0   \n",
       "1    3365.535    11/3/2021           7.1       622.0   \n",
       "2    2911.423    9/15/2021           8.0      3632.0   \n",
       "3    2552.437   10/27/2021           6.9       555.0   \n",
       "4    1850.470    8/11/2021           7.8      3493.0   \n",
       "\n",
       "                                               genre  \\\n",
       "0         ['Science Fiction', 'Action', 'Adventure']   \n",
       "1  ['Action', 'Adventure', 'Science Fiction', 'Fa...   \n",
       "2         ['Action', 'Adventure', 'Science Fiction']   \n",
       "3                    ['Action', 'Crime', 'Thriller']   \n",
       "4  ['Comedy', 'Action', 'Adventure', 'Science Fic...   \n",
       "\n",
       "                                            overview      revenue  runtime  \\\n",
       "0  After finding a host body in investigative rep...  424000000.0     97.0   \n",
       "1  The Eternals are a team of ancient aliens who ...  165000000.0    157.0   \n",
       "2  Paul Atreides, a brilliant and gifted young ma...  331116356.0    155.0   \n",
       "3  A mysterious woman recruits bank teller Ludwig...          0.0    127.0   \n",
       "4  A bank teller called Guy realizes he is a back...  331096766.0    115.0   \n",
       "\n",
       "                                          tagline  \n",
       "0                                             NaN  \n",
       "1                             In the beginning...  \n",
       "2                    Beyond fear, destiny awaits.  \n",
       "3    Before Vegas, one locksmith became a legend.  \n",
       "4  Life's too short to be a background character.  "
      ]
     },
     "execution_count": 3,
     "metadata": {},
     "output_type": "execute_result"
    }
   ],
   "source": [
    "df.head()"
   ]
  },
  {
   "cell_type": "code",
   "execution_count": 10,
   "id": "ae286c26",
   "metadata": {},
   "outputs": [
    {
     "data": {
      "text/plain": [
       "(10014, 13)"
      ]
     },
     "execution_count": 10,
     "metadata": {},
     "output_type": "execute_result"
    }
   ],
   "source": [
    "df.shape"
   ]
  },
  {
   "cell_type": "code",
   "execution_count": 11,
   "id": "e61e80c6",
   "metadata": {},
   "outputs": [
    {
     "name": "stdout",
     "output_type": "stream",
     "text": [
      "<class 'pandas.core.frame.DataFrame'>\n",
      "RangeIndex: 10014 entries, 0 to 10013\n",
      "Data columns (total 13 columns):\n",
      " #   Column             Non-Null Count  Dtype  \n",
      "---  ------             --------------  -----  \n",
      " 0   Unnamed: 0         10014 non-null  object \n",
      " 1   id                 10002 non-null  float64\n",
      " 2   original_language  10002 non-null  object \n",
      " 3   original_title     10001 non-null  object \n",
      " 4   popularity         10000 non-null  float64\n",
      " 5   release_date       9962 non-null   object \n",
      " 6   vote_average       10000 non-null  float64\n",
      " 7   vote_count         10000 non-null  float64\n",
      " 8   genre              10000 non-null  object \n",
      " 9   overview           9900 non-null   object \n",
      " 10  revenue            9998 non-null   float64\n",
      " 11  runtime            9989 non-null   float64\n",
      " 12  tagline            7079 non-null   object \n",
      "dtypes: float64(6), object(7)\n",
      "memory usage: 1017.2+ KB\n"
     ]
    }
   ],
   "source": [
    "df.info()"
   ]
  },
  {
   "cell_type": "code",
   "execution_count": null,
   "id": "d96e5ccc",
   "metadata": {},
   "outputs": [],
   "source": []
  },
  {
   "cell_type": "code",
   "execution_count": 13,
   "id": "e2e0dbba",
   "metadata": {},
   "outputs": [
    {
     "data": {
      "text/html": [
       "<div>\n",
       "<style scoped>\n",
       "    .dataframe tbody tr th:only-of-type {\n",
       "        vertical-align: middle;\n",
       "    }\n",
       "\n",
       "    .dataframe tbody tr th {\n",
       "        vertical-align: top;\n",
       "    }\n",
       "\n",
       "    .dataframe thead th {\n",
       "        text-align: right;\n",
       "    }\n",
       "</style>\n",
       "<table border=\"1\" class=\"dataframe\">\n",
       "  <thead>\n",
       "    <tr style=\"text-align: right;\">\n",
       "      <th></th>\n",
       "      <th>count</th>\n",
       "      <th>mean</th>\n",
       "      <th>std</th>\n",
       "      <th>min</th>\n",
       "      <th>25%</th>\n",
       "      <th>50%</th>\n",
       "      <th>75%</th>\n",
       "      <th>max</th>\n",
       "    </tr>\n",
       "  </thead>\n",
       "  <tbody>\n",
       "    <tr>\n",
       "      <th>id</th>\n",
       "      <td>10002.0</td>\n",
       "      <td>2.500031e+05</td>\n",
       "      <td>2.617323e+05</td>\n",
       "      <td>0.000</td>\n",
       "      <td>11864.500</td>\n",
       "      <td>144312.000</td>\n",
       "      <td>4.514060e+05</td>\n",
       "      <td>8.934780e+05</td>\n",
       "    </tr>\n",
       "    <tr>\n",
       "      <th>popularity</th>\n",
       "      <td>10000.0</td>\n",
       "      <td>3.451687e+01</td>\n",
       "      <td>1.006940e+02</td>\n",
       "      <td>6.269</td>\n",
       "      <td>11.908</td>\n",
       "      <td>17.488</td>\n",
       "      <td>2.962625e+01</td>\n",
       "      <td>5.401308e+03</td>\n",
       "    </tr>\n",
       "    <tr>\n",
       "      <th>vote_average</th>\n",
       "      <td>10000.0</td>\n",
       "      <td>6.298750e+00</td>\n",
       "      <td>1.434260e+00</td>\n",
       "      <td>0.000</td>\n",
       "      <td>5.900</td>\n",
       "      <td>6.500</td>\n",
       "      <td>7.100000e+00</td>\n",
       "      <td>9.500000e+00</td>\n",
       "    </tr>\n",
       "    <tr>\n",
       "      <th>vote_count</th>\n",
       "      <td>10000.0</td>\n",
       "      <td>1.315085e+03</td>\n",
       "      <td>2.501899e+03</td>\n",
       "      <td>0.000</td>\n",
       "      <td>118.000</td>\n",
       "      <td>425.500</td>\n",
       "      <td>1.297250e+03</td>\n",
       "      <td>3.018400e+04</td>\n",
       "    </tr>\n",
       "    <tr>\n",
       "      <th>revenue</th>\n",
       "      <td>9998.0</td>\n",
       "      <td>5.737536e+07</td>\n",
       "      <td>1.480897e+08</td>\n",
       "      <td>0.000</td>\n",
       "      <td>0.000</td>\n",
       "      <td>593124.000</td>\n",
       "      <td>4.768796e+07</td>\n",
       "      <td>2.847246e+09</td>\n",
       "    </tr>\n",
       "    <tr>\n",
       "      <th>runtime</th>\n",
       "      <td>9989.0</td>\n",
       "      <td>9.879277e+01</td>\n",
       "      <td>2.877153e+01</td>\n",
       "      <td>0.000</td>\n",
       "      <td>89.000</td>\n",
       "      <td>99.000</td>\n",
       "      <td>1.130000e+02</td>\n",
       "      <td>4.000000e+02</td>\n",
       "    </tr>\n",
       "  </tbody>\n",
       "</table>\n",
       "</div>"
      ],
      "text/plain": [
       "                count          mean           std    min        25%  \\\n",
       "id            10002.0  2.500031e+05  2.617323e+05  0.000  11864.500   \n",
       "popularity    10000.0  3.451687e+01  1.006940e+02  6.269     11.908   \n",
       "vote_average  10000.0  6.298750e+00  1.434260e+00  0.000      5.900   \n",
       "vote_count    10000.0  1.315085e+03  2.501899e+03  0.000    118.000   \n",
       "revenue        9998.0  5.737536e+07  1.480897e+08  0.000      0.000   \n",
       "runtime        9989.0  9.879277e+01  2.877153e+01  0.000     89.000   \n",
       "\n",
       "                     50%           75%           max  \n",
       "id            144312.000  4.514060e+05  8.934780e+05  \n",
       "popularity        17.488  2.962625e+01  5.401308e+03  \n",
       "vote_average       6.500  7.100000e+00  9.500000e+00  \n",
       "vote_count       425.500  1.297250e+03  3.018400e+04  \n",
       "revenue       593124.000  4.768796e+07  2.847246e+09  \n",
       "runtime           99.000  1.130000e+02  4.000000e+02  "
      ]
     },
     "execution_count": 13,
     "metadata": {},
     "output_type": "execute_result"
    }
   ],
   "source": [
    "df.describe().T"
   ]
  },
  {
   "cell_type": "code",
   "execution_count": 8,
   "id": "c90f7005",
   "metadata": {},
   "outputs": [
    {
     "data": {
      "text/plain": [
       "Unnamed: 0              0\n",
       "id                     12\n",
       "original_language      12\n",
       "original_title         13\n",
       "popularity             14\n",
       "release_date           52\n",
       "vote_average           14\n",
       "vote_count             14\n",
       "genre                  14\n",
       "overview              114\n",
       "revenue                16\n",
       "runtime                25\n",
       "tagline              2935\n",
       "dtype: int64"
      ]
     },
     "execution_count": 8,
     "metadata": {},
     "output_type": "execute_result"
    }
   ],
   "source": [
    "df.isnull().sum()"
   ]
  },
  {
   "cell_type": "code",
   "execution_count": 14,
   "id": "39fa2e3b",
   "metadata": {},
   "outputs": [],
   "source": [
    "\n",
    "\n",
    "df.drop([\"Unnamed: 0\",\"id\"], axis=1, inplace=True)\n",
    "\n"
   ]
  },
  {
   "cell_type": "code",
   "execution_count": 15,
   "id": "4cd8fb50",
   "metadata": {},
   "outputs": [
    {
     "data": {
      "text/plain": [
       "original_language      12\n",
       "original_title         13\n",
       "popularity             14\n",
       "release_date           52\n",
       "vote_average           14\n",
       "vote_count             14\n",
       "genre                  14\n",
       "overview              114\n",
       "revenue                16\n",
       "runtime                25\n",
       "tagline              2935\n",
       "dtype: int64"
      ]
     },
     "execution_count": 15,
     "metadata": {},
     "output_type": "execute_result"
    }
   ],
   "source": [
    "df.isnull().sum()"
   ]
  },
  {
   "cell_type": "code",
   "execution_count": 16,
   "id": "c0f680ff",
   "metadata": {},
   "outputs": [
    {
     "data": {
      "text/plain": [
       "11"
      ]
     },
     "execution_count": 16,
     "metadata": {},
     "output_type": "execute_result"
    }
   ],
   "source": [
    "df.duplicated().sum()"
   ]
  },
  {
   "cell_type": "code",
   "execution_count": 18,
   "id": "30d5fbde",
   "metadata": {},
   "outputs": [],
   "source": [
    "df.drop_duplicates(inplace=True)"
   ]
  },
  {
   "cell_type": "code",
   "execution_count": null,
   "id": "1db7b5c5",
   "metadata": {},
   "outputs": [],
   "source": []
  }
 ],
 "metadata": {
  "kernelspec": {
   "display_name": "Python 3",
   "language": "python",
   "name": "python3"
  },
  "language_info": {
   "codemirror_mode": {
    "name": "ipython",
    "version": 3
   },
   "file_extension": ".py",
   "mimetype": "text/x-python",
   "name": "python",
   "nbconvert_exporter": "python",
   "pygments_lexer": "ipython3",
   "version": "3.8.8"
  }
 },
 "nbformat": 4,
 "nbformat_minor": 5
}
